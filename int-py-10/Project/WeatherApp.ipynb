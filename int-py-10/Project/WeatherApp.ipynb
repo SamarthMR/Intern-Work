{
 "cells": [
  {
   "cell_type": "markdown",
   "id": "a898b495",
   "metadata": {},
   "source": [
    "<h1 align=\"center\"> Weather App Using API </h1>"
   ]
  },
  {
   "cell_type": "markdown",
   "id": "c71329d3",
   "metadata": {},
   "source": [
    "### We will discuss creating a weather application using tkinter. The GUI app will provide information about temperature, latitude, longitude, date, time, year, country of origin, and other details about the current weather of a particular city.\n",
    "---"
   ]
  },
  {
   "cell_type": "markdown",
   "id": "2e2ff667",
   "metadata": {},
   "source": [
    "📋 **Modules Request:**\n",
    "----\n",
    "---\n",
    "1. **Tkinter** is the standard GUI library for Python. Python when combined with Tkinter provides a fast and easy way to create GUI applications. Tkinter provides a powerful object-oriented interface to the Tk GUI toolkit.\n",
    "\n",
    "- Creating a GUI application using Tkinter is an easy task. All you need to do is perform the following steps −\n",
    "\n",
    "    1. Import the Tkinter module.\n",
    "\n",
    "    2. Create the GUI application main window.\n",
    "\n",
    "    3. Add one or more of the above-mentioned widgets to the GUI application.\n",
    "\n",
    "    4. Enter the main event loop to take action against each event triggered by the user.\n",
    "    \n",
    "2. **Requests:** The requests library is the de facto standard for making HTTP requests in Python. It abstracts the complexities of making requests behind a beautiful, simple API so that you can focus on interacting with services and consuming data in your application.    "
   ]
  },
  {
   "cell_type": "raw",
   "id": "5690b166",
   "metadata": {},
   "source": [
    "pip install requests"
   ]
  },
  {
   "cell_type": "markdown",
   "id": "557f8ff2",
   "metadata": {},
   "source": [
    "📋 **Approach:**\n",
    "---\n",
    "---\n",
    "- First, we need to use a weather API (Application Programming Interface) to fetch data from the [Open Weather Map](https://openweathermap.org/) website, and then we need to make a configuration file to store the API key. Finally, we use that configuration file in the Python script."
   ]
  },
  {
   "cell_type": "markdown",
   "id": "752f2186",
   "metadata": {},
   "source": [
    "📋 **Steps to generate an API key:**\n",
    "----\n",
    "----\n",
    "1. Login in the [Open Weather Map](https://openweathermap.org/)\n",
    "2. Go to the API section. Then in the Current Weather Data section click on the Api doc.\n",
    "3. Now in the API Call section, we have the link of api.openweathermap.org/data/2.5/weather?q={city name}&appid={API key}\n",
    "4. Click on the API key on the link it will direct to the page from where you can get the key."
   ]
  },
  {
   "cell_type": "markdown",
   "id": "7e0b8d8b",
   "metadata": {},
   "source": [
    "📋 **Steps to create the python3 -- Weather Application using API**\n",
    "---\n",
    "----"
   ]
  },
  {
   "cell_type": "markdown",
   "id": "c24b3b95",
   "metadata": {},
   "source": [
    "### 📌 Importing the libraries:"
   ]
  },
  {
   "cell_type": "code",
   "execution_count": null,
   "id": "9cee951d",
   "metadata": {},
   "outputs": [],
   "source": [
    "from tkinter import *\n",
    "import requests\n",
    "import json\n",
    "import datetime\n",
    "from PIL import ImageTk, Image"
   ]
  },
  {
   "cell_type": "markdown",
   "id": "7841bc2f",
   "metadata": {},
   "source": [
    "### 📌 Interface of the Application:"
   ]
  },
  {
   "cell_type": "code",
   "execution_count": null,
   "id": "8779cdda",
   "metadata": {},
   "outputs": [],
   "source": [
    "root = Tk()\n",
    "root.title(\"Weather App\")\n",
    "root.geometry(\"500x500\")\n",
    "root['background'] = \"white\""
   ]
  },
  {
   "cell_type": "markdown",
   "id": "66b498c2",
   "metadata": {},
   "source": [
    "### 📌 Dates:"
   ]
  },
  {
   "cell_type": "code",
   "execution_count": null,
   "id": "011da441",
   "metadata": {},
   "outputs": [],
   "source": [
    "dt = datetime.datetime.now()\n",
    "date = Label(root, text=dt.strftime('%A  '), bg='white', font=(\"Bold\", 15))\n",
    "date.place(x=15, y=130)\n",
    "month = Label(root, text=dt.strftime('%m %B'), bg='white', font=(\"Blod\", 15))\n",
    "month.place(x=100, y=130)"
   ]
  },
  {
   "cell_type": "markdown",
   "id": "4bfc9e2b",
   "metadata": {},
   "source": [
    "### 📌 Time:"
   ]
  },
  {
   "cell_type": "code",
   "execution_count": null,
   "id": "b0e2d208",
   "metadata": {},
   "outputs": [],
   "source": [
    "hour = Label(root, text=dt.strftime('%I : %M %p'),\n",
    "\t\t\tbg='white', font=(\"bold\", 15))\n",
    "hour.place(x=15, y=160)\n"
   ]
  },
  {
   "cell_type": "markdown",
   "id": "3ea09117",
   "metadata": {},
   "source": [
    "### 📌 Theme for the respective time the application is used:"
   ]
  },
  {
   "cell_type": "code",
   "execution_count": null,
   "id": "dc620499",
   "metadata": {},
   "outputs": [],
   "source": [
    "if int((dt.strftime('%I'))) >= 8 & int((dt.strftime('%I'))) <= 5:\n",
    "\timg = ImageTk.PhotoImage(Image.open('moon.png'))\n",
    "\tpanel = Label(root, image=img)\n",
    "\tpanel.place(x=210, y=200)\n",
    "else:\n",
    "\timg = ImageTk.PhotoImage(Image.open('sun.png'))\n",
    "\tpanel = Label(root, image=img)\n",
    "\tpanel.place(x=210, y=200)\n"
   ]
  },
  {
   "cell_type": "markdown",
   "id": "f8eb0701",
   "metadata": {},
   "source": [
    "### 📌 City Search"
   ]
  },
  {
   "cell_type": "code",
   "execution_count": null,
   "id": "70bc9b17",
   "metadata": {},
   "outputs": [],
   "source": [
    "city_name = StringVar()\n",
    "city_entry = Entry(root, textvariable=city_name, width=45)\n",
    "city_entry.grid(row=1, column=0, ipady=10, stick=W+E+N+S)"
   ]
  },
  {
   "cell_type": "markdown",
   "id": "06b99617",
   "metadata": {},
   "source": [
    "### 📌 The function where the API calls:"
   ]
  },
  {
   "cell_type": "code",
   "execution_count": null,
   "id": "04ae8176",
   "metadata": {},
   "outputs": [],
   "source": [
    "def city_name():\n",
    "\n",
    "\t# API Call\n",
    "\tapi_request = requests.get(\"https://api.openweathermap.org/data/2.5/weather?q=\"\n",
    "\t\t\t\t\t\t\t+ city_entry.get() + '&APPID=b35975e18dc93725acb092f7272cc6b8&units=metric')\n",
    "\n",
    "\tapi = json.loads(api_request.content)\n",
    "\n",
    "\t# Temperatures\n",
    "\ty = api['main']\n",
    "\tcurrent_temprature = y['temp']\n",
    "\thumidity = y['humidity']\n",
    "\ttempmin = y['temp_min']\n",
    "\ttempmax = y['temp_max']\n",
    "\n",
    "\t# Coordinates\n",
    "\tx = api['coord']\n",
    "\tlongtitude = x['lon']\n",
    "\tlatitude = x['lat']\n",
    "\n",
    "\t# Country\n",
    "\tz = api['sys']\n",
    "\tcountry = z['country']\n",
    "\tciti = api['name']"
   ]
  },
  {
   "cell_type": "markdown",
   "id": "e2fbe830",
   "metadata": {},
   "source": [
    "### 📌 Adding the received info into the screen"
   ]
  },
  {
   "cell_type": "code",
   "execution_count": null,
   "id": "59aca855",
   "metadata": {},
   "outputs": [],
   "source": [
    "\n",
    "\tlable_temp.configure(text=current_temprature)\n",
    "\tlable_humidity.configure(text=humidity)\n",
    "\tmax_temp.configure(text=tempmax)\n",
    "\tmin_temp.configure(text=tempmin)\n",
    "\tlable_lon.configure(text=longtitude)\n",
    "\tlable_lat.configure(text=latitude)\n",
    "\tlable_country.configure(text=country)\n",
    "\tlable_citi.configure(text=citi)"
   ]
  },
  {
   "cell_type": "markdown",
   "id": "077a2e9e",
   "metadata": {},
   "source": [
    "### 📌 Search Bar and Button:"
   ]
  },
  {
   "cell_type": "code",
   "execution_count": null,
   "id": "da93aedb",
   "metadata": {},
   "outputs": [],
   "source": [
    "city_nameButton = Button(root, text=\"Search\", command=city_name)\n",
    "city_nameButton.grid(row=1, column=1, padx=5, stick=W+E+N+S)"
   ]
  },
  {
   "cell_type": "markdown",
   "id": "056091ff",
   "metadata": {},
   "source": [
    "### 📌 Country Names and Coordinates:"
   ]
  },
  {
   "cell_type": "code",
   "execution_count": null,
   "id": "96f51aaa",
   "metadata": {},
   "outputs": [],
   "source": [
    "lable_citi = Label(root, text=\"...\", width=0,\n",
    "\t\t\t\tbg='white', font=(\"bold\", 15))\n",
    "lable_citi.place(x=15, y=63)\n",
    "\n",
    "lable_country = Label(root, text=\"...\", width=0,\n",
    "\t\t\t\t\tbg='white', font=(\"bold\", 15))\n",
    "lable_country.place(x=180, y=63)\n",
    "\n",
    "lable_lon = Label(root, text=\"...\", width=0,\n",
    "\t\t\t\tbg='white', font=(\"Helvetica\", 15))\n",
    "lable_lon.place(x=15, y=95)\n",
    "lable_lat = Label(root, text=\"...\", width=0,\n",
    "\t\t\t\tbg='white', font=(\"Helvetica\", 15))\n",
    "lable_lat.place(x=180, y=95)"
   ]
  },
  {
   "cell_type": "markdown",
   "id": "e87b2ed1",
   "metadata": {},
   "source": [
    "### 📌 Current Temperature:"
   ]
  },
  {
   "cell_type": "code",
   "execution_count": null,
   "id": "1c957d34",
   "metadata": {},
   "outputs": [],
   "source": [
    "lable_temp = Label(root, text=\"...\", width=0, bg = \"White\",\n",
    "\t\t\t\tfont=(\"Hahmlet\",55), fg='black')\n",
    "lable_temp.place(x=18, y=250)"
   ]
  },
  {
   "cell_type": "markdown",
   "id": "ccc8f69d",
   "metadata": {},
   "source": [
    "### 📌 Other temperature details:"
   ]
  },
  {
   "cell_type": "code",
   "execution_count": null,
   "id": "2f6f189d",
   "metadata": {},
   "outputs": [],
   "source": [
    "humi = Label(root, text=\"Humidity : \", width=0,\n",
    "\t\t\tbg='white', font=(\"bold\", 15))\n",
    "humi.place(x=15, y=400)\n",
    "\n",
    "lable_humidity = Label(root, text=\"...\", width=0,\n",
    "\t\t\t\t\tbg='white', font=(\"bold\", 15))\n",
    "lable_humidity.place(x=107, y=400)\n",
    "\n",
    "\n",
    "maxi = Label(root, text=\"Max.Temp. : \", width=0,\n",
    "\t\t\tbg='white', font=(\"bold\", 15))\n",
    "maxi.place(x=15, y=430)\n",
    "\n",
    "max_temp = Label(root, text=\"...\", width=0,\n",
    "\t\t\t\tbg='white', font=(\"bold\", 15))\n",
    "max_temp.place(x=128, y=430)\n",
    "\n",
    "\n",
    "mini = Label(root, text=\"Min.Temp. : \", width=0,\n",
    "\t\t\tbg='white', font=(\"bold\", 15))\n",
    "mini.place(x=15, y=460)\n",
    "\n",
    "min_temp = Label(root, text=\"...\", width=0,\n",
    "\t\t\t\tbg='white', font=(\"bold\", 15))\n",
    "min_temp.place(x=128, y=460)"
   ]
  },
  {
   "cell_type": "markdown",
   "id": "bf679fdd",
   "metadata": {},
   "source": [
    "### 📌 The main event loop to take action against each event triggered by the user:"
   ]
  },
  {
   "cell_type": "code",
   "execution_count": null,
   "id": "ec7b0286",
   "metadata": {},
   "outputs": [],
   "source": [
    "root.mainloop()"
   ]
  }
 ],
 "metadata": {
  "kernelspec": {
   "display_name": "Python 3",
   "language": "python",
   "name": "python3"
  },
  "language_info": {
   "codemirror_mode": {
    "name": "ipython",
    "version": 3
   },
   "file_extension": ".py",
   "mimetype": "text/x-python",
   "name": "python",
   "nbconvert_exporter": "python",
   "pygments_lexer": "ipython3",
   "version": "3.8.8"
  }
 },
 "nbformat": 4,
 "nbformat_minor": 5
}
